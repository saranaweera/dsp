{
 "cells": [
  {
   "cell_type": "code",
   "execution_count": 49,
   "metadata": {
    "collapsed": false
   },
   "outputs": [
    {
     "name": "stdout",
     "output_type": "stream",
     "text": [
      "{'B.S.Ed.': 1,\n",
      " 'JD': 1,\n",
      " 'M.S.': 1,\n",
      " 'MA': 1,\n",
      " 'MD': 1,\n",
      " 'MPH': 2,\n",
      " 'MS': 1,\n",
      " 'Ph.D': 5,\n",
      " 'Ph.D.': 17,\n",
      " 'PhD': 9,\n",
      " 'Sc.D.': 4,\n",
      " 'ScD': 2}\n"
     ]
    }
   ],
   "source": [
    "import pandas as pd\n",
    "from pprint import pprint\n",
    "\n",
    "facultyData = pd.read_csv('../dsp/python/faculty.csv')\n",
    "facultyData.columns =  [i.strip() for i in facultyData.columns]\n",
    "\n",
    "degrees = []\n",
    "[degrees.extend(d) for d in facultyData.degree.apply(lambda x: x.split())];\n",
    "\n",
    "degrees =  [d for d in degrees if  not d.isdigit()]\n",
    "\n",
    "degreesDict = {}\n",
    "for d in degrees:\n",
    "    if d in degreesDict:\n",
    "        degreesDict[d] += 1\n",
    "    else:\n",
    "        degreesDict[d] = 1\n",
    "\n",
    "pprint(degreesDict)"
   ]
  },
  {
   "cell_type": "code",
   "execution_count": 57,
   "metadata": {
    "collapsed": false
   },
   "outputs": [
    {
     "data": {
      "text/plain": [
       "Professor              13\n",
       "Associate Professor    12\n",
       "Assistant Professor    12\n",
       "Name: title, dtype: int64"
      ]
     },
     "execution_count": 57,
     "metadata": {},
     "output_type": "execute_result"
    }
   ],
   "source": [
    "facultyData.title.apply(lambda x: x.replace(' of Biostatistics','').replace(' is Biostatistics','')).value_counts()"
   ]
  },
  {
   "cell_type": "code",
   "execution_count": 70,
   "metadata": {
    "collapsed": false
   },
   "outputs": [
    {
     "data": {
      "text/plain": [
       "array(['bellamys@mail.med.upenn.edu', 'warren@upenn.edu',\n",
       "       'bryanma@upenn.edu', 'jinboche@upenn.edu', 'sellenbe@upenn.edu',\n",
       "       'jellenbe@mail.med.upenn.edu', 'ruifeng@upenn.edu',\n",
       "       'bcfrench@mail.med.upenn.edu', 'pgimotty@upenn.edu',\n",
       "       'wguo@mail.med.upenn.edu', 'hsu9@mail.med.upenn.edu',\n",
       "       'rhubb@mail.med.upenn.edu', 'whwang@mail.med.upenn.edu',\n",
       "       'mjoffe@mail.med.upenn.edu', 'jrlandis@mail.med.upenn.edu',\n",
       "       'liy3@email.chop.edu', 'mingyao@mail.med.upenn.edu',\n",
       "       'hongzhe@upenn.edu', 'rlocalio@upenn.edu',\n",
       "       'nanditam@mail.med.upenn.edu', 'knashawn@mail.med.upenn.edu',\n",
       "       'propert@mail.med.upenn.edu', 'mputt@mail.med.upenn.edu',\n",
       "       'sratclif@upenn.edu', 'michross@upenn.edu',\n",
       "       'jaroy@mail.med.upenn.edu', 'msammel@cceb.med.upenn.edu',\n",
       "       'shawp@upenn.edu', 'rshi@mail.med.upenn.edu',\n",
       "       'hshou@mail.med.upenn.edu', 'jshults@mail.med.upenn.edu',\n",
       "       'alisaste@mail.med.upenn.edu', 'atroxel@mail.med.upenn.edu',\n",
       "       'rxiao@mail.med.upenn.edu', 'sxie@mail.med.upenn.edu',\n",
       "       'dxie@upenn.edu', 'weiyang@mail.med.upenn.edu'], dtype=object)"
      ]
     },
     "execution_count": 70,
     "metadata": {},
     "output_type": "execute_result"
    }
   ],
   "source": [
    "facultyData.email.unique()"
   ]
  },
  {
   "cell_type": "code",
   "execution_count": 65,
   "metadata": {
    "collapsed": false
   },
   "outputs": [
    {
     "data": {
      "text/plain": [
       "@mail.med.upenn.edu    23\n",
       "@upenn.edu             12\n",
       "@cceb.med.upenn.edu     1\n",
       "@email.chop.edu         1\n",
       "Name: email, dtype: int64"
      ]
     },
     "execution_count": 65,
     "metadata": {},
     "output_type": "execute_result"
    }
   ],
   "source": [
    "import re\n",
    "\n",
    "facultyData.email.apply(lambda x: re.search(\"@[\\w.]+\", x).group()).value_counts()\n",
    "\n"
   ]
  },
  {
   "cell_type": "code",
   "execution_count": 75,
   "metadata": {
    "collapsed": true
   },
   "outputs": [],
   "source": [
    "facultyData.email.to_csv('../dsp/python/emails.csv', header=None, index=False)"
   ]
  },
  {
   "cell_type": "code",
   "execution_count": 87,
   "metadata": {
    "collapsed": false
   },
   "outputs": [
    {
     "name": "stdout",
     "output_type": "stream",
     "text": [
      "key: Li\n",
      "  value: Ph.D., Assistant Professor, liy3@email.chop.edu\n",
      "  value: Ph.D., Associate Professor, mingyao@mail.med.upenn.edu\n",
      "  value: Ph.D., Professor, hongzhe@upenn.edu\n",
      "\n",
      "key: Ellenberg\n",
      "  value: Ph.D., Professor, sellenbe@upenn.edu\n",
      "  value: Ph.D., Professor, jellenbe@mail.med.upenn.edu\n",
      "\n"
     ]
    }
   ],
   "source": [
    "faculty_dict = { 'Ellenberg': [['Ph.D.', 'Professor', 'sellenbe@upenn.edu'], ['Ph.D.', 'Professor', 'jellenbe@mail.med.upenn.edu']],\n",
    "              'Li': [['Ph.D.', 'Assistant Professor', 'liy3@email.chop.edu'], ['Ph.D.', 'Associate Professor', 'mingyao@mail.med.upenn.edu'], ['Ph.D.', 'Professor', 'hongzhe@upenn.edu']]}\n",
    "\n",
    "counter = 0\n",
    "\n",
    "for (key, val) in faculty_dict.items():\n",
    "    #print('key: {} value: {}' % (key, ','.join(val)))\n",
    "    print('key: %s' % key)\n",
    "\n",
    "    for v in val:\n",
    "        print('  value: %s' % ', '.join(v))\n",
    "\n",
    "    print('')\n",
    "\n",
    "    counter += 1\n",
    "    if counter >=3:\n",
    "        break\n"
   ]
  },
  {
   "cell_type": "code",
   "execution_count": 158,
   "metadata": {
    "collapsed": true
   },
   "outputs": [],
   "source": [
    "professor_dict = {('Susan', 'Ellenberg'): ['Ph.D.', 'Professor', 'sellenbe@upenn.edu'],\n",
    "('Jonas', 'Ellenberg'): ['Ph.D.', 'Professor', 'jellenbe@mail.med.upenn.edu'],\n",
    "('Yimei', 'Li'): ['Ph.D.', 'Assistant Professor', 'liy3@email.chop.edu'],\n",
    "('Mingyao','Li'): ['Ph.D.', 'Associate Professor', 'mingyao@mail.med.upenn.edu'],\n",
    "('Hongzhe','Li'): ['Ph.D.', 'Professor', 'hongzhe@upenn.edu'] }"
   ]
  },
  {
   "cell_type": "code",
   "execution_count": 162,
   "metadata": {
    "collapsed": false
   },
   "outputs": [
    {
     "name": "stdout",
     "output_type": "stream",
     "text": [
      "key: ('Hongzhe', 'Li') value: Ph.D., Professor, hongzhe@upenn.edu\n",
      "key: ('Mingyao', 'Li') value: Ph.D., Associate Professor, mingyao@mail.med.upenn.edu\n",
      "key: ('Jonas', 'Ellenberg') value: Ph.D., Professor, jellenbe@mail.med.upenn.edu\n"
     ]
    }
   ],
   "source": [
    "counter = 0\n",
    "\n",
    "for (key, val) in professor_dict.items():\n",
    "    print('key: %15s value: %s' % (key, ', '.join(val)))\n",
    "\n",
    "    counter += 1\n",
    "    if counter >=3:\n",
    "        break"
   ]
  },
  {
   "cell_type": "code",
   "execution_count": 164,
   "metadata": {
    "collapsed": false
   },
   "outputs": [
    {
     "name": "stdout",
     "output_type": "stream",
     "text": [
      "key: Jonas,Ellenberg   value: Ph.D., Professor, jellenbe@mail.med.upenn.edu\n",
      "key: Susan,Ellenberg   value: Ph.D., Professor, sellenbe@upenn.edu\n",
      "key:      Hongzhe,Li   value: Ph.D., Professor, hongzhe@upenn.edu\n",
      "key:      Mingyao,Li   value: Ph.D., Associate Professor, mingyao@mail.med.upenn.edu\n",
      "key:        Yimei,Li   value: Ph.D., Assistant Professor, liy3@email.chop.edu\n"
     ]
    }
   ],
   "source": [
    "keylist = sorted(professor_dict.keys(), key = lambda x: x[1])\n",
    "\n",
    "for k in keylist:\n",
    "    print('key: %15s   value: %s' % (','.join(k), ', '.join(professor_dict[k])))\n"
   ]
  },
  {
   "cell_type": "code",
   "execution_count": null,
   "metadata": {
    "collapsed": true
   },
   "outputs": [],
   "source": []
  }
 ],
 "metadata": {
  "kernelspec": {
   "display_name": "Python 2",
   "language": "python",
   "name": "python2"
  },
  "language_info": {
   "codemirror_mode": {
    "name": "ipython",
    "version": 2
   },
   "file_extension": ".py",
   "mimetype": "text/x-python",
   "name": "python",
   "nbconvert_exporter": "python",
   "pygments_lexer": "ipython2",
   "version": "2.7.13"
  }
 },
 "nbformat": 4,
 "nbformat_minor": 2
}
