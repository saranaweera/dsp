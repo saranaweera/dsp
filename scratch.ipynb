{
 "cells": [
  {
   "cell_type": "markdown",
   "metadata": {},
   "source": [
    "Trailing comma inhibits new line in print"
   ]
  },
  {
   "cell_type": "code",
   "execution_count": 6,
   "metadata": {
    "collapsed": false
   },
   "outputs": [
    {
     "name": "stdout",
     "output_type": "stream",
     "text": [
      "x y z\n"
     ]
    }
   ],
   "source": [
    "print 'x','y',\n",
    "print 'z'"
   ]
  },
  {
   "cell_type": "code",
   "execution_count": 7,
   "metadata": {
    "collapsed": false
   },
   "outputs": [
    {
     "data": {
      "text/plain": [
       "False"
      ]
     },
     "execution_count": 7,
     "metadata": {},
     "output_type": "execute_result"
    }
   ],
   "source": [
    "'2'.isalpha()"
   ]
  },
  {
   "cell_type": "code",
   "execution_count": 8,
   "metadata": {
    "collapsed": false
   },
   "outputs": [
    {
     "data": {
      "text/plain": [
       "True"
      ]
     },
     "execution_count": 8,
     "metadata": {},
     "output_type": "execute_result"
    }
   ],
   "source": [
    "'2'.isdigit()"
   ]
  },
  {
   "cell_type": "code",
   "execution_count": 9,
   "metadata": {
    "collapsed": false
   },
   "outputs": [
    {
     "data": {
      "text/plain": [
       "True"
      ]
     },
     "execution_count": 9,
     "metadata": {},
     "output_type": "execute_result"
    }
   ],
   "source": [
    "' '.isspace()"
   ]
  },
  {
   "cell_type": "code",
   "execution_count": 10,
   "metadata": {
    "collapsed": false
   },
   "outputs": [
    {
     "data": {
      "text/plain": [
       "True"
      ]
     },
     "execution_count": 10,
     "metadata": {},
     "output_type": "execute_result"
    }
   ],
   "source": [
    "'abc'.startswith('a')"
   ]
  },
  {
   "cell_type": "code",
   "execution_count": 11,
   "metadata": {
    "collapsed": false
   },
   "outputs": [
    {
     "data": {
      "text/plain": [
       "True"
      ]
     },
     "execution_count": 11,
     "metadata": {},
     "output_type": "execute_result"
    }
   ],
   "source": [
    "'abc'.endswith('c')"
   ]
  },
  {
   "cell_type": "code",
   "execution_count": 12,
   "metadata": {
    "collapsed": false
   },
   "outputs": [
    {
     "data": {
      "text/plain": [
       "1"
      ]
     },
     "execution_count": 12,
     "metadata": {},
     "output_type": "execute_result"
    }
   ],
   "source": [
    "'acbd'.find('cb')"
   ]
  },
  {
   "cell_type": "code",
   "execution_count": 13,
   "metadata": {
    "collapsed": false
   },
   "outputs": [
    {
     "data": {
      "text/plain": [
       "'azcd'"
      ]
     },
     "execution_count": 13,
     "metadata": {},
     "output_type": "execute_result"
    }
   ],
   "source": [
    "'abcd'.replace('b','z')"
   ]
  },
  {
   "cell_type": "code",
   "execution_count": 14,
   "metadata": {
    "collapsed": false
   },
   "outputs": [
    {
     "data": {
      "text/plain": [
       "['a', 'b', 'c']"
      ]
     },
     "execution_count": 14,
     "metadata": {},
     "output_type": "execute_result"
    }
   ],
   "source": [
    "'a b c'.split()"
   ]
  },
  {
   "cell_type": "code",
   "execution_count": 15,
   "metadata": {
    "collapsed": false
   },
   "outputs": [
    {
     "data": {
      "text/plain": [
       "['a', 'b', 'c']"
      ]
     },
     "execution_count": 15,
     "metadata": {},
     "output_type": "execute_result"
    }
   ],
   "source": [
    "'a,b,c'.split(',')"
   ]
  },
  {
   "cell_type": "code",
   "execution_count": 18,
   "metadata": {
    "collapsed": false
   },
   "outputs": [
    {
     "data": {
      "text/plain": [
       "'a;b;c'"
      ]
     },
     "execution_count": 18,
     "metadata": {},
     "output_type": "execute_result"
    }
   ],
   "source": [
    "';'.join(['a','b','c'])"
   ]
  },
  {
   "cell_type": "code",
   "execution_count": 20,
   "metadata": {
    "collapsed": false
   },
   "outputs": [
    {
     "data": {
      "text/plain": [
       "'i'"
      ]
     },
     "execution_count": 20,
     "metadata": {},
     "output_type": "execute_result"
    }
   ],
   "source": [
    "'shihan'[2]"
   ]
  },
  {
   "cell_type": "code",
   "execution_count": 21,
   "metadata": {
    "collapsed": false
   },
   "outputs": [
    {
     "data": {
      "text/plain": [
       "'ell'"
      ]
     },
     "execution_count": 21,
     "metadata": {},
     "output_type": "execute_result"
    }
   ],
   "source": [
    "s = 'Hello'\n",
    "s[1:4]"
   ]
  },
  {
   "cell_type": "code",
   "execution_count": 22,
   "metadata": {
    "collapsed": false
   },
   "outputs": [
    {
     "data": {
      "text/plain": [
       "'e'"
      ]
     },
     "execution_count": 22,
     "metadata": {},
     "output_type": "execute_result"
    }
   ],
   "source": [
    "s[-4]"
   ]
  },
  {
   "cell_type": "code",
   "execution_count": 23,
   "metadata": {
    "collapsed": false
   },
   "outputs": [
    {
     "data": {
      "text/plain": [
       "'He'"
      ]
     },
     "execution_count": 23,
     "metadata": {},
     "output_type": "execute_result"
    }
   ],
   "source": [
    "s[:-3]"
   ]
  },
  {
   "cell_type": "code",
   "execution_count": 24,
   "metadata": {
    "collapsed": false
   },
   "outputs": [
    {
     "data": {
      "text/plain": [
       "'llo'"
      ]
     },
     "execution_count": 24,
     "metadata": {},
     "output_type": "execute_result"
    }
   ],
   "source": [
    "s[-3:]"
   ]
  },
  {
   "cell_type": "markdown",
   "metadata": {},
   "source": [
    "s[:n] + s[n:] == s"
   ]
  },
  {
   "cell_type": "code",
   "execution_count": 26,
   "metadata": {
    "collapsed": false
   },
   "outputs": [
    {
     "data": {
      "text/plain": [
       "'Hello'"
      ]
     },
     "execution_count": 26,
     "metadata": {},
     "output_type": "execute_result"
    }
   ],
   "source": [
    "s[:-3]+s[-3:]"
   ]
  },
  {
   "cell_type": "markdown",
   "metadata": {},
   "source": [
    "The % operator takes a printf-type format string on the left (%d int, %s string, %f/%g floating point), and the matching values in a tuple on the right (a tuple is made of values separated by commas, typically grouped inside parentheses)"
   ]
  },
  {
   "cell_type": "code",
   "execution_count": 28,
   "metadata": {
    "collapsed": false
   },
   "outputs": [
    {
     "name": "stdout",
     "output_type": "stream",
     "text": [
      "3 little pigs come out or I'll huff and puff and blow down\n"
     ]
    }
   ],
   "source": [
    "text = \"%d little pigs come out or I'll %s and %s and %s\" % (3, 'huff', 'puff', 'blow down')\n",
    "print text"
   ]
  },
  {
   "cell_type": "markdown",
   "metadata": {},
   "source": [
    "Python 2 string are ASCII. To use unicode:"
   ]
  },
  {
   "cell_type": "code",
   "execution_count": 38,
   "metadata": {
    "collapsed": false
   },
   "outputs": [
    {
     "data": {
      "text/plain": [
       "u'A unicode \\u018e string \\xf1'"
      ]
     },
     "execution_count": 38,
     "metadata": {},
     "output_type": "execute_result"
    }
   ],
   "source": [
    "ustring = u'A unicode \\u018e string \\xf1'\n",
    "ustring"
   ]
  },
  {
   "cell_type": "markdown",
   "metadata": {},
   "source": [
    "convert back to ASCII"
   ]
  },
  {
   "cell_type": "code",
   "execution_count": 37,
   "metadata": {
    "collapsed": false
   },
   "outputs": [
    {
     "data": {
      "text/plain": [
       "'A unicode \\xc6\\x8e string \\xc3\\xb1'"
      ]
     },
     "execution_count": 37,
     "metadata": {},
     "output_type": "execute_result"
    }
   ],
   "source": [
    "s = ustring.encode('utf-8')\n",
    "s"
   ]
  },
  {
   "cell_type": "markdown",
   "metadata": {},
   "source": [
    "The \"zero\" values all count as false: None, 0, empty string, empty list, empty dictionary"
   ]
  },
  {
   "cell_type": "markdown",
   "metadata": {},
   "source": [
    "### if"
   ]
  },
  {
   "cell_type": "code",
   "execution_count": 54,
   "metadata": {
    "collapsed": false
   },
   "outputs": [
    {
     "name": "stdout",
     "output_type": "stream",
     "text": [
      "False\n"
     ]
    }
   ],
   "source": [
    "if 0: ''\n",
    "else: print False"
   ]
  },
  {
   "cell_type": "code",
   "execution_count": 56,
   "metadata": {
    "collapsed": false
   },
   "outputs": [
    {
     "name": "stdout",
     "output_type": "stream",
     "text": [
      "False\n"
     ]
    }
   ],
   "source": [
    "if None: ''\n",
    "else: print False"
   ]
  },
  {
   "cell_type": "code",
   "execution_count": 58,
   "metadata": {
    "collapsed": false
   },
   "outputs": [
    {
     "name": "stdout",
     "output_type": "stream",
     "text": [
      "False\n"
     ]
    }
   ],
   "source": [
    "if '': ''\n",
    "else: print False"
   ]
  },
  {
   "cell_type": "code",
   "execution_count": 60,
   "metadata": {
    "collapsed": false
   },
   "outputs": [
    {
     "name": "stdout",
     "output_type": "stream",
     "text": [
      "False\n"
     ]
    }
   ],
   "source": [
    "if []: ''\n",
    "else: print False"
   ]
  },
  {
   "cell_type": "code",
   "execution_count": 62,
   "metadata": {
    "collapsed": false
   },
   "outputs": [
    {
     "name": "stdout",
     "output_type": "stream",
     "text": [
      "False\n"
     ]
    }
   ],
   "source": [
    "if {}: ''\n",
    "else: print False"
   ]
  },
  {
   "cell_type": "markdown",
   "metadata": {},
   "source": [
    "### Lists"
   ]
  },
  {
   "cell_type": "code",
   "execution_count": 65,
   "metadata": {
    "collapsed": false
   },
   "outputs": [
    {
     "name": "stdout",
     "output_type": "stream",
     "text": [
      "blue\n"
     ]
    }
   ],
   "source": [
    "colors = ['red','green', 'blue']\n",
    "print colors[2]"
   ]
  },
  {
   "cell_type": "code",
   "execution_count": 67,
   "metadata": {
    "collapsed": false
   },
   "outputs": [
    {
     "data": {
      "text/plain": [
       "'red'"
      ]
     },
     "execution_count": 67,
     "metadata": {},
     "output_type": "execute_result"
    }
   ],
   "source": [
    "b = colors #does not copy list\n",
    "b[2] = 'red'\n",
    "colors[2]"
   ]
  },
  {
   "cell_type": "code",
   "execution_count": 68,
   "metadata": {
    "collapsed": false
   },
   "outputs": [
    {
     "data": {
      "text/plain": [
       "['red', 'green', 'red', 2, 3]"
      ]
     },
     "execution_count": 68,
     "metadata": {},
     "output_type": "execute_result"
    }
   ],
   "source": [
    "b+[2,3]"
   ]
  },
  {
   "cell_type": "code",
   "execution_count": 69,
   "metadata": {
    "collapsed": false
   },
   "outputs": [
    {
     "data": {
      "text/plain": [
       "['red', 'green', 'red']"
      ]
     },
     "execution_count": 69,
     "metadata": {},
     "output_type": "execute_result"
    }
   ],
   "source": [
    "b"
   ]
  },
  {
   "cell_type": "code",
   "execution_count": 70,
   "metadata": {
    "collapsed": false
   },
   "outputs": [
    {
     "name": "stdout",
     "output_type": "stream",
     "text": [
      "yay\n"
     ]
    }
   ],
   "source": [
    "if 'red' in b: print 'yay'"
   ]
  },
  {
   "cell_type": "code",
   "execution_count": 71,
   "metadata": {
    "collapsed": false
   },
   "outputs": [
    {
     "name": "stdout",
     "output_type": "stream",
     "text": [
      "red\n",
      "green\n",
      "red\n"
     ]
    }
   ],
   "source": [
    "for x in b: print x"
   ]
  },
  {
   "cell_type": "code",
   "execution_count": 73,
   "metadata": {
    "collapsed": false
   },
   "outputs": [
    {
     "data": {
      "text/plain": [
       "[0, 1, 2, 3, 4]"
      ]
     },
     "execution_count": 73,
     "metadata": {},
     "output_type": "execute_result"
    }
   ],
   "source": [
    "range(5) # not including 5"
   ]
  },
  {
   "cell_type": "code",
   "execution_count": 76,
   "metadata": {
    "collapsed": false
   },
   "outputs": [
    {
     "name": "stdout",
     "output_type": "stream",
     "text": [
      "1\n",
      "2\n",
      "3\n",
      "4\n",
      "5\n"
     ]
    }
   ],
   "source": [
    "i = 0\n",
    "while i < 5: \n",
    "    i += 1\n",
    "    print i"
   ]
  },
  {
   "cell_type": "code",
   "execution_count": 78,
   "metadata": {
    "collapsed": false
   },
   "outputs": [
    {
     "name": "stdout",
     "output_type": "stream",
     "text": [
      "['red', 'green', 'red']\n",
      "['red', 'green', 'red', 'yellow']\n"
     ]
    }
   ],
   "source": [
    "print b\n",
    "b.append('yellow') #modifies list and does not return a list\n",
    "print b"
   ]
  },
  {
   "cell_type": "code",
   "execution_count": 79,
   "metadata": {
    "collapsed": false
   },
   "outputs": [
    {
     "data": {
      "text/plain": [
       "['red', 'green', 'red', 'yellow', 2, 3]"
      ]
     },
     "execution_count": 79,
     "metadata": {},
     "output_type": "execute_result"
    }
   ],
   "source": [
    "b += [2,3]\n",
    "b"
   ]
  },
  {
   "cell_type": "code",
   "execution_count": 81,
   "metadata": {
    "collapsed": false
   },
   "outputs": [
    {
     "data": {
      "text/plain": [
       "['red', 'green', 'red', 'yellow', 2, 3, 4, 5, 4, 5]"
      ]
     },
     "execution_count": 81,
     "metadata": {},
     "output_type": "execute_result"
    }
   ],
   "source": [
    "b.extend([4,5])\n",
    "b"
   ]
  },
  {
   "cell_type": "code",
   "execution_count": 82,
   "metadata": {
    "collapsed": false
   },
   "outputs": [
    {
     "ename": "ValueError",
     "evalue": "'hell' is not in list",
     "output_type": "error",
     "traceback": [
      "\u001b[0;31m---------------------------------------------------------------------------\u001b[0m",
      "\u001b[0;31mValueError\u001b[0m                                Traceback (most recent call last)",
      "\u001b[0;32m<ipython-input-82-a5e27fcc0630>\u001b[0m in \u001b[0;36m<module>\u001b[0;34m()\u001b[0m\n\u001b[0;32m----> 1\u001b[0;31m \u001b[0mb\u001b[0m\u001b[0;34m.\u001b[0m\u001b[0mindex\u001b[0m\u001b[0;34m(\u001b[0m\u001b[0;34m'hell'\u001b[0m\u001b[0;34m)\u001b[0m\u001b[0;34m\u001b[0m\u001b[0m\n\u001b[0m",
      "\u001b[0;31mValueError\u001b[0m: 'hell' is not in list"
     ]
    }
   ],
   "source": [
    "b.index('hell')"
   ]
  },
  {
   "cell_type": "code",
   "execution_count": 83,
   "metadata": {
    "collapsed": false
   },
   "outputs": [
    {
     "data": {
      "text/plain": [
       "False"
      ]
     },
     "execution_count": 83,
     "metadata": {},
     "output_type": "execute_result"
    }
   ],
   "source": [
    "'hell' in b"
   ]
  },
  {
   "cell_type": "code",
   "execution_count": 87,
   "metadata": {
    "collapsed": false
   },
   "outputs": [],
   "source": [
    "b.remove('red') # removes first occurence"
   ]
  },
  {
   "cell_type": "code",
   "execution_count": 88,
   "metadata": {
    "collapsed": false
   },
   "outputs": [
    {
     "data": {
      "text/plain": [
       "['green', 'yellow', 2, 3, 4, 5, 4, 5]"
      ]
     },
     "execution_count": 88,
     "metadata": {},
     "output_type": "execute_result"
    }
   ],
   "source": [
    "b"
   ]
  },
  {
   "cell_type": "code",
   "execution_count": 89,
   "metadata": {
    "collapsed": false
   },
   "outputs": [
    {
     "name": "stdout",
     "output_type": "stream",
     "text": [
      "['z', 2, 3, 4, 5, 4, 5]\n"
     ]
    }
   ],
   "source": [
    "b[0:2] ='z' # replaced first two element with one 'z', not like matrices\n",
    "print b"
   ]
  },
  {
   "cell_type": "code",
   "execution_count": 94,
   "metadata": {
    "collapsed": false
   },
   "outputs": [
    {
     "name": "stdout",
     "output_type": "stream",
     "text": [
      "[2, 3, 4, 4, 5, 5, 'z']\n",
      "['z', 2, 3, 4, 5, 4, 5]\n",
      "[2, 3, 4, 4, 5, 5, 'z']\n"
     ]
    }
   ],
   "source": [
    "print sorted(b) #returns new list\n",
    "print b\n",
    "b.sort() #changes original list\n",
    "print b"
   ]
  },
  {
   "cell_type": "code",
   "execution_count": 96,
   "metadata": {
    "collapsed": false
   },
   "outputs": [
    {
     "name": "stdout",
     "output_type": "stream",
     "text": [
      "['z', 5, 5, 4, 4, 3, 2]\n"
     ]
    }
   ],
   "source": [
    "b.sort(reverse=True)\n",
    "print b"
   ]
  },
  {
   "cell_type": "code",
   "execution_count": 99,
   "metadata": {
    "collapsed": false
   },
   "outputs": [
    {
     "name": "stdout",
     "output_type": "stream",
     "text": [
      "['aaa', 'bb', 'a']\n"
     ]
    }
   ],
   "source": [
    "print sorted(['a','bb','aaa'], key=len,reverse=True)"
   ]
  },
  {
   "cell_type": "code",
   "execution_count": 100,
   "metadata": {
    "collapsed": false
   },
   "outputs": [
    {
     "data": {
      "text/plain": [
       "['AAA', 'aaa']"
      ]
     },
     "execution_count": 100,
     "metadata": {},
     "output_type": "execute_result"
    }
   ],
   "source": [
    "sorted(['AAA','aaa'], key=str.lower) #ignore case"
   ]
  },
  {
   "cell_type": "markdown",
   "metadata": {},
   "source": [
    "### Tuples"
   ]
  },
  {
   "cell_type": "code",
   "execution_count": 101,
   "metadata": {
    "collapsed": true
   },
   "outputs": [],
   "source": [
    " tuple = ('hi',)   ## size-1 tuple"
   ]
  },
  {
   "cell_type": "code",
   "execution_count": 102,
   "metadata": {
    "collapsed": false
   },
   "outputs": [
    {
     "name": "stdout",
     "output_type": "stream",
     "text": [
      "13\n"
     ]
    }
   ],
   "source": [
    "(x, y, z) = (42, 13, \"hike\")\n",
    "print y"
   ]
  },
  {
   "cell_type": "code",
   "execution_count": 104,
   "metadata": {
    "collapsed": false
   },
   "outputs": [
    {
     "data": {
      "text/plain": [
       "{'a', 'b', 'z'}"
      ]
     },
     "execution_count": 104,
     "metadata": {},
     "output_type": "execute_result"
    }
   ],
   "source": [
    "lst = ['z','z','z','a','b']\n",
    "sampleSet = set(lst) # set will contain ['a','b','z']\n",
    "sampleSet"
   ]
  },
  {
   "cell_type": "code",
   "execution_count": 112,
   "metadata": {
    "collapsed": false
   },
   "outputs": [
    {
     "name": "stdout",
     "output_type": "stream",
     "text": [
      "[1, 4, 9, 16, 25]\n",
      "120\n"
     ]
    }
   ],
   "source": [
    "items = [1, 2, 3, 4, 5]\n",
    "print map(lambda x: x**2, items)\n",
    "print reduce((lambda x, y: x * y), items)"
   ]
  },
  {
   "cell_type": "code",
   "execution_count": 116,
   "metadata": {
    "collapsed": false
   },
   "outputs": [
    {
     "data": {
      "text/plain": [
       "['b', 'a', 'bbb', 'aaaa']"
      ]
     },
     "execution_count": 116,
     "metadata": {},
     "output_type": "execute_result"
    }
   ],
   "source": [
    "sorted(['b','bbb','a','aaaa'],key= lambda x:len(x))"
   ]
  },
  {
   "cell_type": "code",
   "execution_count": 130,
   "metadata": {
    "collapsed": false
   },
   "outputs": [
    {
     "name": "stdout",
     "output_type": "stream",
     "text": [
      "[0, 1, 4, 9, 16, 25, 36, 49, 64, 81]\n",
      "[0, 4, 16, 36, 64]\n"
     ]
    }
   ],
   "source": [
    "squaredNumbers = [x**2 for x in range(10)]\n",
    "print(squaredNumbers)\n",
    "\n",
    "evenSquaredNumbers = [x for x in squaredNumbers if x%2==0]\n",
    "print(evenSquaredNumbers)"
   ]
  },
  {
   "cell_type": "code",
   "execution_count": 129,
   "metadata": {
    "collapsed": false
   },
   "outputs": [
    {
     "name": "stdout",
     "output_type": "stream",
     "text": [
      "[0, 1, 4, 9, 16, 25, 36, 49, 64, 81]\n",
      "[0, 4, 16, 36, 64]\n"
     ]
    }
   ],
   "source": [
    "squaredNumbersUsingMap = map(lambda x: x**2, range(10))\n",
    "print(squaredNumbersUsingMap)\n",
    "\n",
    "evenSquaredNumbersUsingFilter = filter(lambda x: x%2 == 0, squaredNumber)\n",
    "print(evenSquaredNumbersUsingFilter)\n"
   ]
  },
  {
   "cell_type": "code",
   "execution_count": 144,
   "metadata": {
    "collapsed": false
   },
   "outputs": [
    {
     "name": "stdout",
     "output_type": "stream",
     "text": [
      "937\n"
     ]
    }
   ],
   "source": [
    "from datetime import datetime\n",
    "\n",
    "date_start = '01-02-2013'    \n",
    "date_stop = '07-28-2015'\n",
    "\n",
    "diff = datetime.strptime(date_stop,'%m-%d-%Y') - datetime.strptime(date_start,'%m-%d-%Y')\n",
    "print(diff.days)"
   ]
  },
  {
   "cell_type": "code",
   "execution_count": 145,
   "metadata": {
    "collapsed": false
   },
   "outputs": [
    {
     "name": "stdout",
     "output_type": "stream",
     "text": [
      "513\n"
     ]
    }
   ],
   "source": [
    "date_start = '12312013'  \n",
    "date_stop = '05282015'\n",
    "\n",
    "diff = datetime.strptime(date_stop,'%m%d%Y') - datetime.strptime(date_start,'%m%d%Y')\n",
    "print(diff.days) "
   ]
  },
  {
   "cell_type": "code",
   "execution_count": 146,
   "metadata": {
    "collapsed": false
   },
   "outputs": [
    {
     "name": "stdout",
     "output_type": "stream",
     "text": [
      "7850\n"
     ]
    }
   ],
   "source": [
    "date_start = '15-Jan-1994'  \n",
    "date_stop = '14-Jul-2015'  \n",
    "\n",
    "diff = datetime.strptime(date_stop,'%d-%b-%Y') - datetime.strptime(date_start,'%d-%b-%Y')\n",
    "print(diff.days) "
   ]
  },
  {
   "cell_type": "code",
   "execution_count": 160,
   "metadata": {
    "collapsed": true
   },
   "outputs": [],
   "source": [
    "def donuts(count):\n",
    "    \"\"\"\n",
    "    Given an int count of a number of donuts, return a string of the\n",
    "    form 'Number of donuts: <count>', where <count> is the number\n",
    "    passed in. However, if the count is 10 or more, then use the word\n",
    "    'many' instead of the actual count.\n",
    "\n",
    "    >>> donuts(4)\n",
    "    'Number of donuts: 4'\n",
    "    >>> donuts(9)\n",
    "    'Number of donuts: 9'\n",
    "    >>> donuts(10)\n",
    "    'Number of donuts: many'\n",
    "    >>> donuts(99)\n",
    "    'Number of donuts: many'\n",
    "    \"\"\"\n",
    "\n",
    "    if count >= 10:\n",
    "        return 'Number of donuts: many'\n",
    "    else:\n",
    "        return 'Number of donuts: %d' % count"
   ]
  },
  {
   "cell_type": "code",
   "execution_count": 161,
   "metadata": {
    "collapsed": false
   },
   "outputs": [
    {
     "data": {
      "text/plain": [
       "'Number of donuts: 9'"
      ]
     },
     "execution_count": 161,
     "metadata": {},
     "output_type": "execute_result"
    }
   ],
   "source": [
    "donuts(9)"
   ]
  },
  {
   "cell_type": "code",
   "execution_count": 162,
   "metadata": {
    "collapsed": true
   },
   "outputs": [],
   "source": [
    "def both_ends(s):\n",
    "    \"\"\"\n",
    "    Given a string s, return a string made of the first 2 and the last\n",
    "    2 chars of the original string, so 'spring' yields 'spng'.\n",
    "    However, if the string length is less than 2, return instead the\n",
    "    empty string.\n",
    "\n",
    "    >>> both_ends('spring')\n",
    "    'spng'\n",
    "    >>> both_ends('Hello')\n",
    "    'Helo'\n",
    "    >>> both_ends('a')\n",
    "    ''\n",
    "    >>> both_ends('xyz')\n",
    "    'xyyz'\n",
    "    \"\"\"\n",
    "    return s[:2] + s[-2:]"
   ]
  },
  {
   "cell_type": "code",
   "execution_count": 163,
   "metadata": {
    "collapsed": false
   },
   "outputs": [
    {
     "data": {
      "text/plain": [
       "'spng'"
      ]
     },
     "execution_count": 163,
     "metadata": {},
     "output_type": "execute_result"
    }
   ],
   "source": [
    "both_ends('spring')"
   ]
  },
  {
   "cell_type": "code",
   "execution_count": 174,
   "metadata": {
    "collapsed": false
   },
   "outputs": [],
   "source": [
    "def fix_start(s):\n",
    "    \"\"\"\n",
    "    Given a string s, return a string where all occurences of its\n",
    "    first char have been changed to '*', except do not change the\n",
    "    first char itself. e.g. 'babble' yields 'ba**le' Assume that the\n",
    "    string is length 1 or more.\n",
    "\n",
    "    >>> fix_start('babble')\n",
    "    'ba**le'\n",
    "    >>> fix_start('aardvark')\n",
    "    'a*rdv*rk'\n",
    "    >>> fix_start('google')\n",
    "    'goo*le'\n",
    "    >>> fix_start('donut')\n",
    "    'donut'\n",
    "    \"\"\"\n",
    "    return ''.join(list(s[0]) + [ x if s[0] != x else '*' for x in list(s[1:]) ])"
   ]
  },
  {
   "cell_type": "code",
   "execution_count": 175,
   "metadata": {
    "collapsed": false
   },
   "outputs": [
    {
     "data": {
      "text/plain": [
       "'ba**le'"
      ]
     },
     "execution_count": 175,
     "metadata": {},
     "output_type": "execute_result"
    }
   ],
   "source": [
    "fix_start('babble')"
   ]
  },
  {
   "cell_type": "code",
   "execution_count": 177,
   "metadata": {
    "collapsed": true
   },
   "outputs": [],
   "source": [
    "def mix_up(a, b):\n",
    "    \"\"\"\n",
    "    Given strings a and b, return a single string with a and b\n",
    "    separated by a space '<a> <b>', except swap the first 2 chars of\n",
    "    each string. Assume a and b are length 2 or more.\n",
    "\n",
    "    >>> mix_up('mix', 'pod')\n",
    "    'pox mid'\n",
    "    >>> mix_up('dog', 'dinner')\n",
    "    'dig donner'\n",
    "    >>> mix_up('gnash', 'sport')\n",
    "    'spash gnort'\n",
    "    >>> mix_up('pezzy', 'firm')\n",
    "    'fizzy perm'\n",
    "    \"\"\"\n",
    "    return b[:2] + a[2:] + ' ' + a[:2] + b[2:]"
   ]
  },
  {
   "cell_type": "code",
   "execution_count": 180,
   "metadata": {
    "collapsed": false
   },
   "outputs": [
    {
     "data": {
      "text/plain": [
       "'spash gnort'"
      ]
     },
     "execution_count": 180,
     "metadata": {},
     "output_type": "execute_result"
    }
   ],
   "source": [
    "mix_up('gnash','sport')"
   ]
  },
  {
   "cell_type": "code",
   "execution_count": 186,
   "metadata": {
    "collapsed": true
   },
   "outputs": [],
   "source": [
    "def verbing(s):\n",
    "    \"\"\"\n",
    "    Given a string, if its length is at least 3, add 'ing' to its end.\n",
    "    Unless it already ends in 'ing', in which case add 'ly' instead.\n",
    "    If the string length is less than 3, leave it unchanged. Return\n",
    "    the resulting string.\n",
    "\n",
    "    >>> verbing('hail')\n",
    "    'hailing'\n",
    "    >>> verbing('swiming')\n",
    "    'swimingly'\n",
    "    >>> verbing('do')\n",
    "    'do'\n",
    "    \"\"\"\n",
    "    if len(s) < 3:\n",
    "        return s\n",
    "    else:\n",
    "        if s[-3:] == 'ing':\n",
    "            return s + 'ly'\n",
    "        else:\n",
    "            return s + 'ing'\n",
    "        \n"
   ]
  },
  {
   "cell_type": "code",
   "execution_count": 190,
   "metadata": {
    "collapsed": false
   },
   "outputs": [
    {
     "data": {
      "text/plain": [
       "'donting'"
      ]
     },
     "execution_count": 190,
     "metadata": {},
     "output_type": "execute_result"
    }
   ],
   "source": [
    "verbing('dont')"
   ]
  },
  {
   "cell_type": "code",
   "execution_count": 194,
   "metadata": {
    "collapsed": true
   },
   "outputs": [],
   "source": [
    "def not_bad(s):\n",
    "    \"\"\"\n",
    "    Given a string, find the first appearance of the substring 'not'\n",
    "    and 'bad'. If the 'bad' follows the 'not', replace the whole\n",
    "    'not'...'bad' substring with 'good'. Return the resulting string.\n",
    "    So 'This dinner is not that bad!' yields: 'This dinner is\n",
    "    good!'\n",
    "\n",
    "    >>> not_bad('This movie is not so bad')\n",
    "    'This movie is good'\n",
    "    >>> not_bad('This dinner is not that bad!')\n",
    "    'This dinner is good!'\n",
    "    >>> not_bad('This tea is not hot')\n",
    "    'This tea is not hot'\n",
    "    >>> not_bad(\"It's bad yet not\")\n",
    "    \"It's bad yet not\"\n",
    "    \"\"\"\n",
    "    notLoc = s.find('not')\n",
    "    badLoc = s.find('bad')\n",
    "    \n",
    "    if notLoc > -1 and badLoc > -1 and notLoc < badLoc:\n",
    "        return s[:notLoc] + 'good' + s[badLoc+3:]\n",
    "    else:\n",
    "        return s"
   ]
  },
  {
   "cell_type": "code",
   "execution_count": 195,
   "metadata": {
    "collapsed": false
   },
   "outputs": [
    {
     "data": {
      "text/plain": [
       "'This movie is good'"
      ]
     },
     "execution_count": 195,
     "metadata": {},
     "output_type": "execute_result"
    }
   ],
   "source": [
    "not_bad('This movie is not so bad')"
   ]
  },
  {
   "cell_type": "code",
   "execution_count": 196,
   "metadata": {
    "collapsed": false
   },
   "outputs": [
    {
     "data": {
      "text/plain": [
       "'This dinner is good!'"
      ]
     },
     "execution_count": 196,
     "metadata": {},
     "output_type": "execute_result"
    }
   ],
   "source": [
    "not_bad('This dinner is not that bad!')"
   ]
  },
  {
   "cell_type": "code",
   "execution_count": 197,
   "metadata": {
    "collapsed": false
   },
   "outputs": [
    {
     "data": {
      "text/plain": [
       "'This tea is not hot'"
      ]
     },
     "execution_count": 197,
     "metadata": {},
     "output_type": "execute_result"
    }
   ],
   "source": [
    "not_bad('This tea is not hot')"
   ]
  },
  {
   "cell_type": "code",
   "execution_count": 198,
   "metadata": {
    "collapsed": false
   },
   "outputs": [
    {
     "data": {
      "text/plain": [
       "\"It's bad yet not\""
      ]
     },
     "execution_count": 198,
     "metadata": {},
     "output_type": "execute_result"
    }
   ],
   "source": [
    "not_bad(\"It's bad yet not\")"
   ]
  },
  {
   "cell_type": "code",
   "execution_count": 239,
   "metadata": {
    "collapsed": false
   },
   "outputs": [],
   "source": [
    "def front_back_String(s):\n",
    "    front = s[:len(s)//2] + s[len(s)//2 : len(s)//2+len(s)%2]\n",
    "    back = s[len(front):]\n",
    "    return front, back\n",
    "\n",
    "def front_back(a, b):\n",
    "    \"\"\"\n",
    "    Consider dividing a string into two halves. If the length is even,\n",
    "    the front and back halves are the same length. If the length is\n",
    "    odd, we'll say that the extra char goes in the front half. e.g.\n",
    "    'abcde', the front half is 'abc', the back half 'de'. Given 2\n",
    "    strings, a and b, return a string of the form a-front + b-front +\n",
    "    a-back + b-back\n",
    "\n",
    "    >>> front_back('abcd', 'xy')\n",
    "    'abxcdy'\n",
    "    >>> front_back('abcde', 'xyz')\n",
    "    'abcxydez'\n",
    "    >>> front_back('Kitten', 'Donut')\n",
    "    'KitDontenut'\n",
    "    \"\"\"\n",
    "    (a_front, a_back) = front_back_String(a)\n",
    "    (b_front, b_back) = front_back_String(b)\n",
    "    \n",
    "    return a_front + b_front + a_back + b_back"
   ]
  },
  {
   "cell_type": "code",
   "execution_count": 243,
   "metadata": {
    "collapsed": false
   },
   "outputs": [
    {
     "data": {
      "text/plain": [
       "'KitDontenut'"
      ]
     },
     "execution_count": 243,
     "metadata": {},
     "output_type": "execute_result"
    }
   ],
   "source": [
    "front_back('Kitten','Donut')"
   ]
  },
  {
   "cell_type": "code",
   "execution_count": 322,
   "metadata": {
    "collapsed": true
   },
   "outputs": [],
   "source": [
    "# Based on materials copyright 2010 Google Inc.\n",
    "# Licensed under the Apache License, Version 2.0\n",
    "\n",
    "\n",
    "def match_ends(words):\n",
    "    \"\"\"\n",
    "    Given a list of strings, return the count of the number of strings\n",
    "    where the string length is 2 or more and the first and last chars\n",
    "    of the string are the same.\n",
    "\n",
    "    >>> match_ends(['aba', 'xyz', 'aa', 'x', 'bbb'])\n",
    "    3\n",
    "    >>> match_ends(['', 'x', 'xy', 'xyx', 'xx'])\n",
    "    2\n",
    "    >>> match_ends(['aaa', 'be', 'abc', 'hello'])\n",
    "    1\n",
    "    \"\"\"\n",
    "    \n",
    "    return len([w for w in words if len(w) >= 2 and w[0] == w[-1]])"
   ]
  },
  {
   "cell_type": "code",
   "execution_count": 323,
   "metadata": {
    "collapsed": false
   },
   "outputs": [
    {
     "data": {
      "text/plain": [
       "1"
      ]
     },
     "execution_count": 323,
     "metadata": {},
     "output_type": "execute_result"
    }
   ],
   "source": [
    "match_ends(['aaa', 'be', 'abc', 'hello'])"
   ]
  },
  {
   "cell_type": "code",
   "execution_count": 324,
   "metadata": {
    "collapsed": true
   },
   "outputs": [],
   "source": [
    "def front_x_compare(x,y):\n",
    "    if x[0].lower() == 'x':\n",
    "        return -1\n",
    "    elif y[0].lower() == 'x':\n",
    "        return 1\n",
    "    elif x < y:\n",
    "        return -1\n",
    "    elif x == y:\n",
    "        return 0\n",
    "    else:\n",
    "        return 1\n",
    "    \n",
    "def front_x(words):\n",
    "    \"\"\"\n",
    "    Given a list of strings, return a list with the strings in sorted\n",
    "    order, except group all the strings that begin with 'x' first.\n",
    "    e.g. ['mix', 'xyz', 'apple', 'xanadu', 'aardvark'] yields\n",
    "         ['xanadu', 'xyz', 'aardvark', 'apple', 'mix'].\n",
    "\n",
    "    >>> front_x(['bbb', 'ccc', 'axx', 'xzz', 'xaa'])\n",
    "    ['xaa', 'xzz', 'axx', 'bbb', 'ccc']\n",
    "    >>> front_x(['ccc', 'bbb', 'aaa', 'xcc', 'xaa'])\n",
    "    ['xaa', 'xcc', 'aaa', 'bbb', 'ccc']\n",
    "    >>> front_x(['mix', 'xyz', 'apple', 'xanadu', 'aardvark'])\n",
    "    ['xanadu', 'xyz', 'aardvark', 'apple', 'mix']\n",
    "    \"\"\"\n",
    "    return sorted(words,cmp= lambda x,y: front_x_compare(x,y))"
   ]
  },
  {
   "cell_type": "code",
   "execution_count": 325,
   "metadata": {
    "collapsed": false
   },
   "outputs": [
    {
     "data": {
      "text/plain": [
       "['xaa', 'xzz', 'axx', 'bbb', 'ccc']"
      ]
     },
     "execution_count": 325,
     "metadata": {},
     "output_type": "execute_result"
    }
   ],
   "source": [
    "front_x(['bbb', 'ccc', 'axx', 'xzz', 'xaa'])"
   ]
  },
  {
   "cell_type": "code",
   "execution_count": 326,
   "metadata": {
    "collapsed": false
   },
   "outputs": [
    {
     "data": {
      "text/plain": [
       "['xaa', 'xcc', 'aaa', 'bbb', 'ccc']"
      ]
     },
     "execution_count": 326,
     "metadata": {},
     "output_type": "execute_result"
    }
   ],
   "source": [
    "front_x(['ccc', 'bbb', 'aaa', 'xcc', 'xaa'])"
   ]
  },
  {
   "cell_type": "code",
   "execution_count": 327,
   "metadata": {
    "collapsed": false
   },
   "outputs": [
    {
     "data": {
      "text/plain": [
       "['xanadu', 'xyz', 'aardvark', 'apple', 'mix']"
      ]
     },
     "execution_count": 327,
     "metadata": {},
     "output_type": "execute_result"
    }
   ],
   "source": [
    "front_x(['mix', 'xyz', 'apple', 'xanadu', 'aardvark'])"
   ]
  },
  {
   "cell_type": "code",
   "execution_count": 328,
   "metadata": {
    "collapsed": true
   },
   "outputs": [],
   "source": [
    "def sort_last(tuples):\n",
    "    \"\"\"\n",
    "    Given a list of non-empty tuples, return a list sorted in\n",
    "    increasing order by the last element in each tuple.\n",
    "    e.g. [(1, 7), (1, 3), (3, 4, 5), (2, 2)] yields\n",
    "         [(2, 2), (1, 3), (3, 4, 5), (1, 7)].\n",
    "\n",
    "    >>> sort_last([(1, 3), (3, 2), (2, 1)])\n",
    "    [(2, 1), (3, 2), (1, 3)]\n",
    "    >>> sort_last([(2, 3), (1, 2), (3, 1)])\n",
    "    [(3, 1), (1, 2), (2, 3)]\n",
    "    >>> sort_last([(1, 7), (1, 3), (3, 4, 5), (2, 2)])\n",
    "    [(2, 2), (1, 3), (3, 4, 5), (1, 7)]\n",
    "    \"\"\"\n",
    "    return sorted(tuples, key = lambda x: x[-1])"
   ]
  },
  {
   "cell_type": "code",
   "execution_count": 329,
   "metadata": {
    "collapsed": false
   },
   "outputs": [
    {
     "data": {
      "text/plain": [
       "[(2, 1), (3, 2), (1, 3)]"
      ]
     },
     "execution_count": 329,
     "metadata": {},
     "output_type": "execute_result"
    }
   ],
   "source": [
    "sort_last([(1, 3), (3, 2), (2, 1)])"
   ]
  },
  {
   "cell_type": "code",
   "execution_count": 330,
   "metadata": {
    "collapsed": false
   },
   "outputs": [
    {
     "data": {
      "text/plain": [
       "[(3, 1), (1, 2), (2, 3)]"
      ]
     },
     "execution_count": 330,
     "metadata": {},
     "output_type": "execute_result"
    }
   ],
   "source": [
    "sort_last([(2, 3), (1, 2), (3, 1)])"
   ]
  },
  {
   "cell_type": "code",
   "execution_count": 331,
   "metadata": {
    "collapsed": false
   },
   "outputs": [
    {
     "data": {
      "text/plain": [
       "[(2, 2), (1, 3), (3, 4, 5), (1, 7)]"
      ]
     },
     "execution_count": 331,
     "metadata": {},
     "output_type": "execute_result"
    }
   ],
   "source": [
    "sort_last([(1, 7), (1, 3), (3, 4, 5), (2, 2)])"
   ]
  },
  {
   "cell_type": "code",
   "execution_count": 332,
   "metadata": {
    "collapsed": true
   },
   "outputs": [],
   "source": [
    "def remove_adjacent(nums):\n",
    "    \"\"\"\n",
    "    Given a list of numbers, return a list where all adjacent equal\n",
    "    elements have been reduced to a single element, so [1, 2, 2, 3]\n",
    "    returns [1, 2, 3]. You may create a new list or modify the passed\n",
    "    in list.\n",
    "\n",
    "    >>> remove_adjacent([1, 2, 2, 3])\n",
    "    [1, 2, 3]\n",
    "    >>> remove_adjacent([2, 2, 3, 3, 3])\n",
    "    [2, 3]\n",
    "    >>> remove_adjacent([3, 2, 3, 3, 3])\n",
    "    [3, 2, 3]\n",
    "    >>> remove_adjacent([])\n",
    "    []\n",
    "    \"\"\"\n",
    "    \n",
    "    # boundary condition: if the list is less than two items then return the list\n",
    "    if len(nums) < 2:\n",
    "        return nums\n",
    "    \n",
    "    # if first number is same as second remove first number\n",
    "    if nums[0] == nums[1] :\n",
    "        return remove_adjacent(nums[1:])\n",
    "    else:\n",
    "        return [nums[0]] + remove_adjacent(nums[1:])\n",
    "        \n",
    "    "
   ]
  },
  {
   "cell_type": "code",
   "execution_count": 333,
   "metadata": {
    "collapsed": false
   },
   "outputs": [
    {
     "data": {
      "text/plain": [
       "[1, 2, 3]"
      ]
     },
     "execution_count": 333,
     "metadata": {},
     "output_type": "execute_result"
    }
   ],
   "source": [
    "remove_adjacent([1, 2,2, 3])"
   ]
  },
  {
   "cell_type": "code",
   "execution_count": 334,
   "metadata": {
    "collapsed": false
   },
   "outputs": [
    {
     "data": {
      "text/plain": [
       "[2, 3]"
      ]
     },
     "execution_count": 334,
     "metadata": {},
     "output_type": "execute_result"
    }
   ],
   "source": [
    "remove_adjacent([2, 2, 3, 3, 3])"
   ]
  },
  {
   "cell_type": "code",
   "execution_count": 335,
   "metadata": {
    "collapsed": false
   },
   "outputs": [
    {
     "data": {
      "text/plain": [
       "[3, 2, 3]"
      ]
     },
     "execution_count": 335,
     "metadata": {},
     "output_type": "execute_result"
    }
   ],
   "source": [
    "remove_adjacent([3, 2, 3, 3, 3])"
   ]
  },
  {
   "cell_type": "code",
   "execution_count": 336,
   "metadata": {
    "collapsed": false
   },
   "outputs": [
    {
     "data": {
      "text/plain": [
       "[]"
      ]
     },
     "execution_count": 336,
     "metadata": {},
     "output_type": "execute_result"
    }
   ],
   "source": [
    "remove_adjacent([])"
   ]
  },
  {
   "cell_type": "code",
   "execution_count": 337,
   "metadata": {
    "collapsed": false
   },
   "outputs": [],
   "source": [
    "def linear_merge(list1, list2):\n",
    "    \"\"\"\n",
    "    Given two lists sorted in increasing order, create and return a\n",
    "    merged list of all the elements in sorted order. You may modify\n",
    "    the passed in lists. Ideally, the solution should work in \"linear\"\n",
    "    time, making a single pass of both lists.\n",
    "\n",
    "    >>> linear_merge(['aa', 'xx', 'zz'], ['bb', 'cc'])\n",
    "    ['aa', 'bb', 'cc', 'xx', 'zz']\n",
    "    >>> linear_merge(['aa', 'xx'], ['bb', 'cc', 'zz'])\n",
    "    ['aa', 'bb', 'cc', 'xx', 'zz']\n",
    "    >>> linear_merge(['aa', 'aa'], ['aa', 'bb', 'bb'])\n",
    "    ['aa', 'aa', 'aa', 'bb', 'bb']\n",
    "    \"\"\"\n",
    "    #raise NotImplementedError\n",
    "    \n",
    "    if list1[0] < list2[0]:\n",
    "        firstTwoElements = [list1[0], list2[0]]\n",
    "    else:\n",
    "        firstTwoElements = [list2[0], list1[0]]\n",
    "    \n",
    "    \n",
    "    if len(list1) > 1 and len(list2) > 1 :\n",
    "        firstTwoElements.extend(linear_merge(list1[1:], list2[1:]))\n",
    "        return firstTwoElements \n",
    "    else:\n",
    "        firstTwoElements.extend(list1[1:])\n",
    "        firstTwoElements.extend(list2[1:])\n",
    "        return firstTwoElements\n",
    "    "
   ]
  },
  {
   "cell_type": "code",
   "execution_count": 338,
   "metadata": {
    "collapsed": false
   },
   "outputs": [
    {
     "data": {
      "text/plain": [
       "['aa', 'bb', 'cc', 'xx', 'zz']"
      ]
     },
     "execution_count": 338,
     "metadata": {},
     "output_type": "execute_result"
    }
   ],
   "source": [
    "linear_merge(['aa', 'xx', 'zz'], ['bb', 'cc'])"
   ]
  },
  {
   "cell_type": "code",
   "execution_count": 339,
   "metadata": {
    "collapsed": false
   },
   "outputs": [
    {
     "data": {
      "text/plain": [
       "['aa', 'bb', 'cc', 'xx', 'zz']"
      ]
     },
     "execution_count": 339,
     "metadata": {},
     "output_type": "execute_result"
    }
   ],
   "source": [
    "linear_merge(['aa', 'xx'], ['bb', 'cc', 'zz'])"
   ]
  },
  {
   "cell_type": "code",
   "execution_count": 340,
   "metadata": {
    "collapsed": false
   },
   "outputs": [
    {
     "data": {
      "text/plain": [
       "['aa', 'aa', 'aa', 'bb', 'bb']"
      ]
     },
     "execution_count": 340,
     "metadata": {},
     "output_type": "execute_result"
    }
   ],
   "source": [
    "linear_merge(['aa', 'aa'], ['aa', 'bb', 'bb'])"
   ]
  },
  {
   "cell_type": "code",
   "execution_count": 341,
   "metadata": {
    "collapsed": false
   },
   "outputs": [
    {
     "name": "stdout",
     "output_type": "stream",
     "text": [
      "/Users/cooldude/DataScience/Metis/PreWork/dsp\r\n"
     ]
    }
   ],
   "source": [
    "!pwd"
   ]
  },
  {
   "cell_type": "code",
   "execution_count": 342,
   "metadata": {
    "collapsed": false
   },
   "outputs": [
    {
     "name": "stdout",
     "output_type": "stream",
     "text": [
      "/bin/sh: line 0: fg: no job control\r\n"
     ]
    }
   ],
   "source": [
    "!%%python python/q7_lists.py"
   ]
  },
  {
   "cell_type": "code",
   "execution_count": 343,
   "metadata": {
    "collapsed": true
   },
   "outputs": [],
   "source": []
  },
  {
   "cell_type": "code",
   "execution_count": 364,
   "metadata": {
    "collapsed": false
   },
   "outputs": [
    {
     "name": "stdout",
     "output_type": "stream",
     "text": [
      "Team with the smallest difference in for and against goals: Aston_Villa\n"
     ]
    }
   ],
   "source": [
    "import pandas as pd\n",
    "data = pd.read_csv('../dsp/python/football.csv')\n",
    "data['AbsGoalDiff'] = (abs(data['Goals'] - data['Goals Allowed']))\n",
    "print('Team with the smallest difference in for and against goals: {}'.format(\n",
    "    data.loc[data['AbsGoalDiff'].idxmin(),'Team']\n",
    "))"
   ]
  },
  {
   "cell_type": "code",
   "execution_count": null,
   "metadata": {
    "collapsed": true
   },
   "outputs": [],
   "source": []
  },
  {
   "cell_type": "code",
   "execution_count": null,
   "metadata": {
    "collapsed": true
   },
   "outputs": [],
   "source": []
  }
 ],
 "metadata": {
  "kernelspec": {
   "display_name": "Python 2",
   "language": "python",
   "name": "python2"
  },
  "language_info": {
   "codemirror_mode": {
    "name": "ipython",
    "version": 2
   },
   "file_extension": ".py",
   "mimetype": "text/x-python",
   "name": "python",
   "nbconvert_exporter": "python",
   "pygments_lexer": "ipython2",
   "version": "2.7.13"
  }
 },
 "nbformat": 4,
 "nbformat_minor": 2
}
